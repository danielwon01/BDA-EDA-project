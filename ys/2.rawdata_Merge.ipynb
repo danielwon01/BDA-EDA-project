{
 "cells": [
  {
   "cell_type": "markdown",
   "id": "db747391",
   "metadata": {},
   "source": [
    "### 패키지 임포트"
   ]
  },
  {
   "cell_type": "code",
   "execution_count": 12,
   "id": "efe6e232",
   "metadata": {},
   "outputs": [],
   "source": [
    "import pandas as pd\n",
    "import numpy as np\n",
    "import matplotlib.pyplot as plt\n",
    "import seaborn as sns\n",
    "%matplotlib inline\n",
    "\n",
    "import warnings\n",
    "warnings.filterwarnings(action='ignore')\n",
    "\n",
    "import matplotlib\n",
    "matplotlib.rc('font', family='AppleGothic')\n",
    "matplotlib.rc('axes', unicode_minus=False)\n",
    "\n",
    "from IPython.display import set_matplotlib_formats\n",
    "set_matplotlib_formats('retina')\n",
    "\n",
    "# pd.options.display.max_rows=100\n",
    "# pd.options.display.max_columns=100\n",
    "# pd.set_option('display.float_format','{:.4f}'.format)"
   ]
  },
  {
   "cell_type": "markdown",
   "id": "ab144c5b",
   "metadata": {},
   "source": [
    "### 1. Data Load"
   ]
  },
  {
   "cell_type": "markdown",
   "id": "ea1b7849",
   "metadata": {},
   "source": [
    "내 파일"
   ]
  },
  {
   "cell_type": "code",
   "execution_count": 13,
   "id": "26f8c4f0",
   "metadata": {},
   "outputs": [],
   "source": [
    "import os\n",
    "\n",
    "path = './data/for_rawdata/'\n",
    "file_list = os.listdir(path)\n",
    "file_list_py = [file for file in file_list if file.endswith('.csv')] ## 파일명 끝이 .csv인 경우"
   ]
  },
  {
   "cell_type": "code",
   "execution_count": 14,
   "id": "14963175",
   "metadata": {},
   "outputs": [],
   "source": [
    "## csv 파일들을 DataFrame으로 불러와서 concat\n",
    "\n",
    "df = pd.DataFrame()\n",
    "for i in file_list_py:\n",
    "    data = pd.read_csv(path + i)\n",
    "    df = pd.concat([df,data])\n",
    "    \n",
    "df = df.reset_index(drop = True)"
   ]
  },
  {
   "cell_type": "code",
   "execution_count": 15,
   "id": "1c344979",
   "metadata": {},
   "outputs": [],
   "source": [
    "df = df.drop(df.columns[0],axis=1)"
   ]
  },
  {
   "cell_type": "code",
   "execution_count": 16,
   "id": "9da933f0",
   "metadata": {
    "scrolled": true
   },
   "outputs": [
    {
     "data": {
      "text/plain": [
       "Index(['ad', 'bizseller', 'checkout', 'contact_hope', 'free_shipping',\n",
       "       'is_adult', 'is_super_up_shop', 'location', 'max_cpc', 'name',\n",
       "       'num_comment', 'num_faved', 'only_neighborhood', 'outlink_url', 'pid',\n",
       "       'price', 'product_image', 'pu_id', 'ref_campaign', 'ref_code',\n",
       "       'ref_medium', 'ref_content', 'ref_source', 'status', 'style',\n",
       "       'super_up', 'tag', 'uid', 'update_time', 'used',\n",
       "       'bun_pay_filter_enabled', 'imp_id', 'ad_ref', 'faved', 'datetime',\n",
       "       'year', 'month', 'day', 'week', 'weekday', 'hour'],\n",
       "      dtype='object')"
      ]
     },
     "execution_count": 16,
     "metadata": {},
     "output_type": "execute_result"
    }
   ],
   "source": [
    "df.columns"
   ]
  },
  {
   "cell_type": "code",
   "execution_count": 17,
   "id": "9288d579",
   "metadata": {},
   "outputs": [
    {
     "data": {
      "text/plain": [
       "(32610, 41)"
      ]
     },
     "execution_count": 17,
     "metadata": {},
     "output_type": "execute_result"
    }
   ],
   "source": [
    "df.shape"
   ]
  },
  {
   "cell_type": "code",
   "execution_count": 18,
   "id": "f6aa1ecc",
   "metadata": {},
   "outputs": [],
   "source": [
    "df.to_csv('./data/rawdata.csv')"
   ]
  },
  {
   "cell_type": "code",
   "execution_count": null,
   "id": "c9571bf0",
   "metadata": {},
   "outputs": [],
   "source": []
  }
 ],
 "metadata": {
  "kernelspec": {
   "display_name": "Python 3",
   "language": "python",
   "name": "python3"
  },
  "language_info": {
   "codemirror_mode": {
    "name": "ipython",
    "version": 3
   },
   "file_extension": ".py",
   "mimetype": "text/x-python",
   "name": "python",
   "nbconvert_exporter": "python",
   "pygments_lexer": "ipython3",
   "version": "3.9.4"
  }
 },
 "nbformat": 4,
 "nbformat_minor": 5
}
