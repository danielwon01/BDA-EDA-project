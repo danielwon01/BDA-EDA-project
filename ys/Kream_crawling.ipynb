{
 "cells": [
  {
   "cell_type": "markdown",
   "id": "f78a9967",
   "metadata": {},
   "source": [
    "# Kream Data 수집\n",
    "\n",
    "[문제 발생] 크림 차트 데이터 수집이 막혀있다. 다른 방법?"
   ]
  },
  {
   "cell_type": "code",
   "execution_count": 1,
   "id": "bb0d00e3",
   "metadata": {},
   "outputs": [],
   "source": [
    "import requests\n",
    "from bs4 import BeautifulSoup\n",
    "import json\n",
    "import time\n",
    "\n",
    "import pandas as pd\n",
    "import numpy as np\n",
    "\n",
    "\n",
    "pd.options.display.max_rows=100\n",
    "pd.options.display.max_columns=100"
   ]
  },
  {
   "cell_type": "code",
   "execution_count": 10,
   "id": "0f3abd44",
   "metadata": {},
   "outputs": [
    {
     "data": {
      "text/plain": [
       "<Response [403]>"
      ]
     },
     "execution_count": 10,
     "metadata": {},
     "output_type": "execute_result"
    }
   ],
   "source": [
    "# url = 'https://kream.co.kr/api/p/products/28029?request_key=304d833b-b10c-4548-8e23-1ea7ed7d380d'  # 403에러 발생\n",
    "# url = 'https://kream.co.kr/api/p/products/28029?request_key=456f1e61-700a-406e-86b1-a666c62cc1c0'   # 403에러 발생\n",
    "url = 'https://kream.co.kr/api/p/products/28029?request_key=013e5dae-9a78-4c8e-ba4c-43af58d42fc5'    # 403에러 발생\n",
    "\n",
    "\n",
    "info = {\n",
    "    'referer': 'https://kream.co.kr/products/28029',\n",
    "    'user-agent': 'Mozilla/5.0 (Macintosh; Intel Mac OS X 10_15_7) AppleWebKit/537.36 (KHTML, like Gecko) Chrome/95.0.4638.54 Safari/537.36'\n",
    "    }\n",
    "resp = requests.get(url, headers = info)\n",
    "resp # 403 에러 발생\n",
    "# kream = json.loads(resp.text)"
   ]
  },
  {
   "cell_type": "markdown",
   "id": "f686bb79",
   "metadata": {},
   "source": [
    "웹 서버에서 브라우저에서 열려고하는 페이지에 액세스하지 못하도록하면 403 Forbidden Error가 발생한다고 한다.\n",
    "\n",
    "즉, **kream데이터의 차트를 불러오는 과정에서 엑세스를 막아놓은 것 같다.**"
   ]
  },
  {
   "cell_type": "code",
   "execution_count": null,
   "id": "1713945f",
   "metadata": {},
   "outputs": [],
   "source": []
  }
 ],
 "metadata": {
  "kernelspec": {
   "display_name": "Python 3",
   "language": "python",
   "name": "python3"
  },
  "language_info": {
   "codemirror_mode": {
    "name": "ipython",
    "version": 3
   },
   "file_extension": ".py",
   "mimetype": "text/x-python",
   "name": "python",
   "nbconvert_exporter": "python",
   "pygments_lexer": "ipython3",
   "version": "3.9.4"
  }
 },
 "nbformat": 4,
 "nbformat_minor": 5
}
