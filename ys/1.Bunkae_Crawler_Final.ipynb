{
 "cells": [
  {
   "cell_type": "markdown",
   "id": "e2970c1d",
   "metadata": {},
   "source": [
    "## 번개장터 데이터 수집을 위한 크롤러 (최종본)\n",
    "\n",
    "- 번개장터 데이터를 수집하기 위한 크롤러 입니다.\n",
    "- 크롤링하는 과정을 함수화(모듈화)하여 편의성을 높입니다.\n",
    "- 크롤링 후에는 중복 제거, 날짜컬럼 생성의 과정을 거칩니다.\n",
    "- 키워드 리스트를 만들어 for문을 수행합니다."
   ]
  },
  {
   "cell_type": "markdown",
   "id": "937a45b9",
   "metadata": {},
   "source": [
    "### import package"
   ]
  },
  {
   "cell_type": "code",
   "execution_count": 20,
   "id": "aef17b5a",
   "metadata": {},
   "outputs": [],
   "source": [
    "import requests # 크롤링을 위함\n",
    "import json # json파일을 다루기위함\n",
    "import time # 크롤링에 딜레이를 두기 위함\n",
    "from datetime import datetime, timedelta # 날짜데이터 변환을 위함\n",
    "\n",
    "import pandas as pd\n",
    "import numpy as np\n",
    "\n",
    "# 데이터프레임이 짤려보이는 것을 해결해줌\n",
    "pd.options.display.max_rows=100\n",
    "pd.options.display.max_columns=100"
   ]
  },
  {
   "cell_type": "markdown",
   "id": "960147d2",
   "metadata": {},
   "source": [
    "### Crawler\n",
    "\n",
    "- keyword와 url, n을 변수로 받아 크롤링을 진행한다.\n",
    "- keyword와 url은 리스트이고, n은 1페이지부터 n페이지까지 크롤링해준다. (**default=20** : 20페이지 * 100 = 2000개)\n",
    "- 데이터프레임을 반환받으며, 크롤러 함수를 변수에 선언해주어야한다."
   ]
  },
  {
   "cell_type": "code",
   "execution_count": 21,
   "id": "1ee35a70",
   "metadata": {},
   "outputs": [],
   "source": [
    "def bunkae_crawler(keyword, n=20):\n",
    "    df = pd.DataFrame()\n",
    "    \n",
    "    for i in range(0,n):\n",
    "\n",
    "        # 차단막는 코드, 랜덤으로 time.sleep 지정\n",
    "        seed = np.random.randint(100)\n",
    "        np.random.seed(seed)\n",
    "        a = np.random.randint(3)\n",
    "        time.sleep(a)\n",
    "        \n",
    "        url_formating = url.format(keyword, i) # url에 포맷팅을 적용한다.\n",
    "        info = {\n",
    "        'referer': 'https://m.bunjang.co.kr/',\n",
    "        'user-agent': 'Mozilla/5.0 (Macintosh; Intel Mac OS X 10_15_7) AppleWebKit/537.36 (KHTML, like Gecko) Chrome/95.0.4638.54 Safari/537.36'\n",
    "        } # info는 변화없음\n",
    "\n",
    "        print(f'{i}th, {(i+1)*100}개째 상품을 크롤링 중')\n",
    "        # requests로 데이터 요청하기\n",
    "        resp = requests.get(url_formating, headers = info)\n",
    "\n",
    "        if resp.status_code == requests.codes.ok:\n",
    "            data = json.loads(resp.text)\n",
    "            next_df = pd.DataFrame(data['list'])\n",
    "            df = pd.concat([df, next_df])\n",
    "\n",
    "        else:\n",
    "            print(f'{i}번째 요청이 잘못되었습니다.')\n",
    "            pass # 넘겨준다.\n",
    "\n",
    "    print('크롤링 완료!!')\n",
    "    result = df.reset_index(drop=True)\n",
    "    return result"
   ]
  },
  {
   "cell_type": "markdown",
   "id": "1b02a8e0",
   "metadata": {},
   "source": [
    "### Deduplicator\n",
    "\n",
    "- 크롤링 과정에서 상품이 등록되면 한칸씩 밀리면서 같은 상품이 두번 크롤링되는 경우가 있다. 이를 해결하기 위한 함수이다.\n",
    "- pid(상품명)를 기준으로 중복을 제거한다. (상품명은 unique id)"
   ]
  },
  {
   "cell_type": "code",
   "execution_count": 22,
   "id": "fac46814",
   "metadata": {},
   "outputs": [],
   "source": [
    "def deduplicator(df):\n",
    "    df = df.drop_duplicates(['pid'], keep='first')\n",
    "    return df"
   ]
  },
  {
   "cell_type": "markdown",
   "id": "7e49d91d",
   "metadata": {},
   "source": [
    "### Datetime maker\n",
    "\n",
    "- update_time 컬럼 : 1970-01-01 09:00 이후로 초를 카운트한 값이다.<br>\n",
    "    - 1970-01-01 09:00라는 기준에서 5분 이내의 오차가 존재한다. (큰 문제 없음)\n",
    "- update_time 컬럼을 datetime과 timedelta를 이용해 날짜로 변환한다.\n",
    "- 새로 생성된 컬럼<br>\n",
    "    - datetime : timedelta형식의 날짜데이터"
   ]
  },
  {
   "cell_type": "code",
   "execution_count": 23,
   "id": "3bfe3af0",
   "metadata": {},
   "outputs": [],
   "source": [
    "def get_date(x):\n",
    "    return datetime(1970,1,1,9) + timedelta(seconds=int(x))"
   ]
  },
  {
   "cell_type": "code",
   "execution_count": 24,
   "id": "97236f29",
   "metadata": {},
   "outputs": [],
   "source": [
    "def datetime_maker(df):\n",
    "    df['datetime'] = df['update_time'].apply(get_date)\n",
    "    return df"
   ]
  },
  {
   "cell_type": "markdown",
   "id": "222d69ed",
   "metadata": {},
   "source": [
    "# Final Keywords Crawling\n",
    "\n",
    "- 위의 함수들을 모두 적용한 셀이며, 이것만 실행하면 keywords 모두 다 크롤링해온다.\n",
    "- 키워드 예시 : '뉴발란스 992', '조던1 하이', '나이키 덩크로우'"
   ]
  },
  {
   "cell_type": "markdown",
   "id": "0f95d236",
   "metadata": {},
   "source": [
    "**[사용법]**\n",
    "1. keywords 리스트에 검색어를 차례로 입력한다.\n",
    "2. url은 keyword에 해당되는 Request URL을 입력하였고, 이는 키워드가 달라져도 변함이 없다.<br>\n",
    "    1. url은 개발자도구 Network 탭에서 페이지클릭 후 find_v2.json파일에 해당되는 Request URL을 가져온다.\n",
    "    2. find_v2.json?q={} => 상품명을 {}로 변환한다 (함수 내에서 포맷팅을 위해)\n",
    "    3. order=date&page={} => 페이지를 {}로 변환한다 (함수 내에서 포맷팅을 위해)\n",
    "    4. 검색 시점에 해당되는 request_id가 있으나 시간데이터로 모두 같은 url을 사용함으로써 통일시킨다. (2021-11-11기준)"
   ]
  },
  {
   "cell_type": "code",
   "execution_count": 25,
   "id": "c8b8f002",
   "metadata": {},
   "outputs": [],
   "source": [
    "# keywords = ['나이키 덩크로우 골든로드', '나이키 덩크로우 라이트본','나이키 덩크로우 바시티그린', '나이키 덩크로우 범고래','나이키 덩크로우 유니버시티블루',\n",
    "#  '나이키 덩크로우 코스트','나이키 덩크하이 네이비','나이키 덩크하이 범고래','나이키 덩크하이 오렌지','뉴발란스 992 그레이','뉴발란스 992 네이비',\n",
    "#  '뉴발란스 992 블랙그레이','뉴발란스 992 화이트실버','뉴발란스 993 그레이','뉴발란스 993 네이비','뉴발란스 993 블랙','조던 1 로우 스타피쉬',\n",
    "#  '조던 1 로우 울프그레이','조던 1 로우 트레비스 스캇''조던1 미드 그레이포그','조던1 미드 스모크그레이','조던1 미드 울프그레이',\n",
    "# '조던1 미드 짐레드','조던1 하이 다크모카','조던1 하이 스모크그레이', '조던1 하이 하이퍼로얄']"
   ]
  },
  {
   "cell_type": "code",
   "execution_count": 30,
   "id": "773b88b3",
   "metadata": {},
   "outputs": [],
   "source": [
    "keywords = ['조던1 로우']\n",
    "url = 'https://api.bunjang.co.kr/api/1/find_v2.json?q={}&order=date&page={}&request_id=20211110194853&stat_uid=77848616&token=c63b703f121940d189c222b3335d80ed&stat_device=w&n=100&stat_category_required=1&req_ref=search&version=4'"
   ]
  },
  {
   "cell_type": "code",
   "execution_count": 31,
   "id": "e6806927",
   "metadata": {},
   "outputs": [
    {
     "name": "stdout",
     "output_type": "stream",
     "text": [
      "조던1 로우 크롤링 시작!\n",
      "0th, 100개째 상품을 크롤링 중\n",
      "1th, 200개째 상품을 크롤링 중\n",
      "2th, 300개째 상품을 크롤링 중\n",
      "3th, 400개째 상품을 크롤링 중\n",
      "4th, 500개째 상품을 크롤링 중\n",
      "5th, 600개째 상품을 크롤링 중\n",
      "6th, 700개째 상품을 크롤링 중\n",
      "7th, 800개째 상품을 크롤링 중\n",
      "8th, 900개째 상품을 크롤링 중\n",
      "9th, 1000개째 상품을 크롤링 중\n",
      "10th, 1100개째 상품을 크롤링 중\n",
      "11th, 1200개째 상품을 크롤링 중\n",
      "12th, 1300개째 상품을 크롤링 중\n",
      "13th, 1400개째 상품을 크롤링 중\n",
      "14th, 1500개째 상품을 크롤링 중\n",
      "15th, 1600개째 상품을 크롤링 중\n",
      "16th, 1700개째 상품을 크롤링 중\n",
      "17th, 1800개째 상품을 크롤링 중\n",
      "18th, 1900개째 상품을 크롤링 중\n",
      "19th, 2000개째 상품을 크롤링 중\n",
      "20th, 2100개째 상품을 크롤링 중\n",
      "21th, 2200개째 상품을 크롤링 중\n",
      "22th, 2300개째 상품을 크롤링 중\n",
      "23th, 2400개째 상품을 크롤링 중\n",
      "24th, 2500개째 상품을 크롤링 중\n",
      "25th, 2600개째 상품을 크롤링 중\n",
      "26th, 2700개째 상품을 크롤링 중\n",
      "27th, 2800개째 상품을 크롤링 중\n",
      "28th, 2900개째 상품을 크롤링 중\n",
      "29th, 3000개째 상품을 크롤링 중\n",
      "30th, 3100개째 상품을 크롤링 중\n",
      "31th, 3200개째 상품을 크롤링 중\n",
      "32th, 3300개째 상품을 크롤링 중\n",
      "33th, 3400개째 상품을 크롤링 중\n",
      "34th, 3500개째 상품을 크롤링 중\n",
      "35th, 3600개째 상품을 크롤링 중\n",
      "36th, 3700개째 상품을 크롤링 중\n",
      "37th, 3800개째 상품을 크롤링 중\n",
      "38th, 3900개째 상품을 크롤링 중\n",
      "39th, 4000개째 상품을 크롤링 중\n",
      "40th, 4100개째 상품을 크롤링 중\n",
      "41th, 4200개째 상품을 크롤링 중\n",
      "42th, 4300개째 상품을 크롤링 중\n",
      "43th, 4400개째 상품을 크롤링 중\n",
      "44th, 4500개째 상품을 크롤링 중\n",
      "45th, 4600개째 상품을 크롤링 중\n",
      "46th, 4700개째 상품을 크롤링 중\n",
      "47th, 4800개째 상품을 크롤링 중\n",
      "48th, 4900개째 상품을 크롤링 중\n",
      "49th, 5000개째 상품을 크롤링 중\n",
      "50th, 5100개째 상품을 크롤링 중\n",
      "51th, 5200개째 상품을 크롤링 중\n",
      "52th, 5300개째 상품을 크롤링 중\n",
      "53th, 5400개째 상품을 크롤링 중\n",
      "54th, 5500개째 상품을 크롤링 중\n",
      "55th, 5600개째 상품을 크롤링 중\n",
      "56th, 5700개째 상품을 크롤링 중\n",
      "57th, 5800개째 상품을 크롤링 중\n",
      "58th, 5900개째 상품을 크롤링 중\n",
      "59th, 6000개째 상품을 크롤링 중\n",
      "크롤링 완료!!\n",
      "----------------------------------------\n",
      "모든 신발 크롤링 완료!\n"
     ]
    }
   ],
   "source": [
    "# test로 keyword별로 500개씩만 가져와본다. (n=5 : default는 2000개씩)\n",
    "\n",
    "bunkae = pd.DataFrame()\n",
    "for keyword in keywords:\n",
    "    print(f'{keyword} 크롤링 시작!')\n",
    "    shoe_df = bunkae_crawler(keyword, n=60)\n",
    "    bunkae = pd.concat([bunkae, shoe_df])\n",
    "    print('----'*10)\n",
    "print('모든 신발 크롤링 완료!')\n",
    "bunkae = bunkae.reset_index(drop=True)\n",
    "bunkae_df = bunkae.copy()\n",
    "deduplicator(bunkae_df)\n",
    "bunkae_df = datetime_maker(bunkae_df)"
   ]
  },
  {
   "cell_type": "code",
   "execution_count": 33,
   "id": "b0f9b228",
   "metadata": {
    "scrolled": true
   },
   "outputs": [
    {
     "data": {
      "text/plain": [
       "0       조던1 로우 gs 라이트 스모크 그레이 240\n",
       "1            나이키 에어조던1 로우 블랙토 260\n",
       "2        나이키 조던1 로우 다크 파우더 블루 270\n",
       "3             나이키 조던1  로우 se 크레이터\n",
       "4    에어디올 로우 41/ 260 새상품 한정판 가격내림\n",
       "Name: name, dtype: object"
      ]
     },
     "execution_count": 33,
     "metadata": {},
     "output_type": "execute_result"
    }
   ],
   "source": [
    "bunkae_df['name'].head()"
   ]
  },
  {
   "cell_type": "markdown",
   "id": "231699e5",
   "metadata": {},
   "source": [
    "**Raw Data 수집 완료**"
   ]
  },
  {
   "cell_type": "markdown",
   "id": "caf51cb1",
   "metadata": {},
   "source": [
    "### Data Save"
   ]
  },
  {
   "cell_type": "code",
   "execution_count": 32,
   "id": "abb29667",
   "metadata": {},
   "outputs": [],
   "source": [
    "bunkae_df.to_csv('./data/jodan1_low.csv')"
   ]
  },
  {
   "cell_type": "code",
   "execution_count": null,
   "id": "23fa93b5",
   "metadata": {},
   "outputs": [],
   "source": []
  }
 ],
 "metadata": {
  "kernelspec": {
   "display_name": "Python 3",
   "language": "python",
   "name": "python3"
  },
  "language_info": {
   "codemirror_mode": {
    "name": "ipython",
    "version": 3
   },
   "file_extension": ".py",
   "mimetype": "text/x-python",
   "name": "python",
   "nbconvert_exporter": "python",
   "pygments_lexer": "ipython3",
   "version": "3.9.4"
  }
 },
 "nbformat": 4,
 "nbformat_minor": 5
}
